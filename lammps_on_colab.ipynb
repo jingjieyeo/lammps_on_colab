{
  "cells": [
    {
      "cell_type": "markdown",
      "metadata": {},
      "source": [
        "<a target=\"_blank\" href=\"https://colab.research.google.com/github/jingjieyeo/lammps_on_colab/blob/main/lammps_on_colab.ipynb\">\n",
        "  <img src=\"https://colab.research.google.com/assets/colab-badge.svg\" alt=\"Open In Colab\"/>\n",
        "</a>"
      ]
    },
    {
      "cell_type": "code",
      "execution_count": null,
      "metadata": {
        "colab": {
          "base_uri": "https://localhost:8080/"
        },
        "id": "HS81BcMQncVW",
        "outputId": "079e21f3-a97e-4bd1-98f1-f9f8b59332ef"
      },
      "outputs": [],
      "source": [
        "# First, get all the libraries and executables that we will need\n",
        "\n",
        "# We start with installing Anaconda\n",
        "!pip install -q condacolab\n",
        "import condacolab\n",
        "condacolab.install()\n",
        "\n",
        "# Then we get the packages needed for LAMMPS\n",
        "!conda install -c conda-forge lammps\n",
        "\n",
        "# Get packages needed for MD trajectory analyses and visualization\n",
        "!pip install mdtraj\n",
        "!pip install py3dmol \n",
        "!pip install lammps-logfile"
      ]
    },
    {
      "cell_type": "code",
      "execution_count": null,
      "metadata": {},
      "outputs": [],
      "source": [
        "# Mount your Google Drive\n",
        "from google.colab import drive\n",
        "drive.mount(\"/content/drive\")"
      ]
    },
    {
      "cell_type": "code",
      "execution_count": null,
      "metadata": {},
      "outputs": [],
      "source": [
        "# Create a working directory, possible to skip if you do not want to save your files\n",
        "!mkdir -p /content/drive/MyDrive/lammps_on_colab\n",
        "%cd /content/drive/MyDrive/lammps_on_colab"
      ]
    },
    {
      "cell_type": "code",
      "execution_count": null,
      "metadata": {},
      "outputs": [],
      "source": [
        "# Once everything is installed, load the libraries and files\n",
        "import mdtraj as md\n",
        "import py3Dmol\n",
        "import numpy as np\n",
        "import pandas as pd\n",
        "import matplotlib.pyplot as plt\n",
        "import lammps_logfile as lmp_log"
      ]
    },
    {
      "cell_type": "code",
      "execution_count": null,
      "metadata": {},
      "outputs": [],
      "source": [
        "# Remove existing files, run only if needed\n",
        "!rm -rf *.xyz *.in *.out *.lammps"
      ]
    },
    {
      "cell_type": "code",
      "execution_count": null,
      "metadata": {},
      "outputs": [],
      "source": [
        "# Get the LAMMPS input file that we need, uncomment the relevant files\n",
        "\n",
        "# Argon modelled using LJ interactions, normalized units\n",
        "!wget -O argon_lj.in https://raw.githubusercontent.com/jingjieyeo/lammps_on_colab/main/examples/lennard_jones_argon/argon_lj.in\n",
        "\n",
        "# Mixture of Argon and Neon using LJ interactions, normalized units\n",
        "#!wget -O mix_lj.in https://raw.githubusercontent.com/jingjieyeo/lammps_on_colab/main/examples/lennard_jones_mixtures/mix_lj.in\n",
        "\n",
        "# Aluminum using LJ interactions, real units\n",
        "#!wget -O al_lj.in https://raw.githubusercontent.com/jingjieyeo/lammps_on_colab/main/examples/lennard_jones_aluminum/al_lj.in\n",
        "\n",
        "# Tensile test on Aluminum using LJ interactions, real units\n",
        "#!wget -O al_lj_tensile.in https://raw.githubusercontent.com/jingjieyeo/lammps_on_colab/main/examples/lennard_jones_aluminum/al_lj_tensile.in\n",
        "\n",
        "# Polymer example using PMMA\n",
        "#!wget -O pmma.zip https://raw.githubusercontent.com/jingjieyeo/lammps_on_colab/main/examples/pmma/pmma.zip\n",
        "#!unzip pmma.zip -d ./pmma\n",
        "#%cd pmma"
      ]
    },
    {
      "cell_type": "code",
      "execution_count": null,
      "metadata": {},
      "outputs": [],
      "source": [
        "# Run LAMMPS\n",
        "# Argon\n",
        "!mpirun --allow-run-as-root lmp_mpi -in argon_lj.in\n",
        "\n",
        "# Mixture\n",
        "#!mpirun --allow-run-as-root lmp_mpi -in mix_lj.in\n",
        "\n",
        "# Aluminum\n",
        "#!mpirun --allow-run-as-root lmp_mpi -in al_lj.in\n",
        "\n",
        "# Tensile test on Aluminum\n",
        "#!mpirun --allow-run-as-root lmp_mpi -in al_lj_tensile.in"
      ]
    },
    {
      "cell_type": "code",
      "execution_count": null,
      "metadata": {},
      "outputs": [],
      "source": [
        "# Have a look at the output from LAMMPS\n",
        "!cat log.lammps"
      ]
    },
    {
      "cell_type": "code",
      "execution_count": null,
      "metadata": {},
      "outputs": [],
      "source": [
        "# Plot LAMMPS thermo output\n",
        "log = lmp_log.File(\"./log.lammps\")\n",
        "\n",
        "# Plot the variation of temperature with time\n",
        "x = log.get(\"Step\")\n",
        "y = log.get(\"Temp\")\n",
        "\n",
        "plt.figure(figsize=(10, 5))\n",
        "plt.title(\"Temperature\")\n",
        "plt.xlabel(\"No. of Steps\")\n",
        "plt.ylabel(\"Temperature\")\n",
        "plt.plot(x, y)\n",
        "plt.show()"
      ]
    },
    {
      "cell_type": "code",
      "execution_count": null,
      "metadata": {},
      "outputs": [],
      "source": [
        "# Plot the variation of temperature with time\n",
        "pe = log.get(\"PotEng\")\n",
        "ke = log.get(\"KinEng\")\n",
        "te = log.get(\"TotEng\")\n",
        "\n",
        "plt.figure(figsize=(10, 5))\n",
        "plt.title(\"Energy\")\n",
        "plt.xlabel(\"No. of Steps\")\n",
        "plt.ylabel(\"Energy\")\n",
        "plt.plot(x, pe, label=\"Potential Energy\")\n",
        "plt.plot(x, ke, label=\"Kinetic Energy\")\n",
        "plt.plot(x, te, label=\"Total Energy\")\n",
        "plt.legend()\n",
        "plt.show()"
      ]
    },
    {
      "cell_type": "code",
      "execution_count": null,
      "metadata": {},
      "outputs": [],
      "source": [
        "# Create the viewer\n",
        "viewer = py3Dmol.view(width=400, height=400)\n",
        "\n",
        "# Add all models to the viewer and set the frames for animation\n",
        "viewer.addModelsAsFrames(open('equil.xyz', 'r').read(), 'xyz')\n",
        "viewer.setBackgroundColor('white')\n",
        "viewer.setStyle({'sphere': {'color':'green', \"scale\": 0.25}}) \n",
        "\n",
        "viewer.zoomTo()\n",
        "\n",
        "# Set animation parameters\n",
        "viewer.animate({'loop': 'forward'})\n",
        "\n",
        "# Display the viewer\n",
        "viewer.show()"
      ]
    }
  ],
  "metadata": {
    "accelerator": "GPU",
    "colab": {
      "provenance": []
    },
    "kernelspec": {
      "display_name": "Python 3",
      "name": "python3"
    }
  },
  "nbformat": 4,
  "nbformat_minor": 0
}
