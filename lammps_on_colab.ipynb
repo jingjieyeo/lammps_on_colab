{
  "cells": [
    {
      "cell_type": "markdown",
      "metadata": {},
      "source": [
        "<a target=\"_blank\" href=\"https://colab.research.google.com/github/jingjieyeo/lammps_on_colab/blob/main/lammps_on_colab.ipynb\">\n",
        "  <img src=\"https://colab.research.google.com/assets/colab-badge.svg\" alt=\"Open In Colab\"/>\n",
        "</a>"
      ]
    },
    {
      "cell_type": "code",
      "execution_count": null,
      "metadata": {
        "colab": {
          "base_uri": "https://localhost:8080/"
        },
        "id": "HS81BcMQncVW",
        "outputId": "079e21f3-a97e-4bd1-98f1-f9f8b59332ef"
      },
      "outputs": [],
      "source": [
        "# First, get all the libraries and executables that we will need\n",
        "\n",
        "# We start with installing Anaconda\n",
        "!pip install -q condacolab\n",
        "import condacolab\n",
        "condacolab.install()\n",
        "\n",
        "# Then we get the packages needed for LAMMPS\n",
        "!conda install -c conda-forge lammps\n",
        "\n",
        "# Get packages needed for MD trajectory analyses and visualization\n",
        "!pip install mdtraj\n",
        "!pip install py3dmol \n",
        "!pip install lammps-logfile\n",
        "\n",
        "# Mount your Google Drive\n",
        "from google.colab import drive\n",
        "drive.mount(\"/content/drive\")"
      ]
    },
    {
      "cell_type": "code",
      "execution_count": null,
      "metadata": {},
      "outputs": [],
      "source": [
        "# Once everything is installed, load the libraries and files\n",
        "import mdtraj as md\n",
        "import py3Dmol\n",
        "import numpy as np\n",
        "import pandas as pd\n",
        "import matplotlib.pyplot as plt"
      ]
    }
  ],
  "metadata": {
    "accelerator": "GPU",
    "colab": {
      "provenance": []
    },
    "kernelspec": {
      "display_name": "Python 3",
      "name": "python3"
    }
  },
  "nbformat": 4,
  "nbformat_minor": 0
}
